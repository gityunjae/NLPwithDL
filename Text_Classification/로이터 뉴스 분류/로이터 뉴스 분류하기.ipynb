{
 "cells": [
  {
   "cell_type": "markdown",
   "metadata": {},
   "source": [
    "# 출처: https://wikidocs.net/22933"
   ]
  },
  {
   "cell_type": "code",
   "execution_count": null,
   "metadata": {},
   "outputs": [],
   "source": []
  },
  {
   "cell_type": "markdown",
   "metadata": {},
   "source": [
    "# 1. 데이터 확인"
   ]
  },
  {
   "cell_type": "code",
   "execution_count": 1,
   "metadata": {},
   "outputs": [],
   "source": [
    "from tensorflow.keras.datasets import reuters\n",
    "%matplotlib inline\n",
    "import matplotlib.pyplot as plt\n",
    "import numpy as np\n",
    "import seaborn as sns"
   ]
  },
  {
   "cell_type": "code",
   "execution_count": 2,
   "metadata": {},
   "outputs": [],
   "source": [
    "import numpy as np\n",
    "# save np.load\n",
    "np_load_old = np.load\n",
    "# modify the default parameters of np.load\n",
    "np.load = lambda *a: np_load_old(*a, allow_pickle=True)\n",
    "\n",
    "(X_train, y_train), (X_test, y_test) = reuters.load_data(num_words=None, test_split=0.2)\n",
    "\n",
    "# restore np.load for future normal usage\n",
    "np.load = np_load_old"
   ]
  },
  {
   "cell_type": "code",
   "execution_count": 3,
   "metadata": {},
   "outputs": [
    {
     "name": "stdout",
     "output_type": "stream",
     "text": [
      "훈련용 뉴스 기사 : 8982\n",
      "테스트용 뉴스 기사 : 2246\n",
      "카테고리 : 46\n"
     ]
    }
   ],
   "source": [
    "print('훈련용 뉴스 기사 : {}'.format(len(X_train)))\n",
    "print('테스트용 뉴스 기사 : {}'.format(len(X_test)))\n",
    "# y_train의 카테고리가 0부터 시작하기 때문에 최댓값에 +1을 해준다.\n",
    "num_classes = max(y_train) + 1\n",
    "print('카테고리 : {}'.format(num_classes))"
   ]
  },
  {
   "cell_type": "code",
   "execution_count": 4,
   "metadata": {},
   "outputs": [
    {
     "name": "stdout",
     "output_type": "stream",
     "text": [
      "[1, 27595, 28842, 8, 43, 10, 447, 5, 25, 207, 270, 5, 3095, 111, 16, 369, 186, 90, 67, 7, 89, 5, 19, 102, 6, 19, 124, 15, 90, 67, 84, 22, 482, 26, 7, 48, 4, 49, 8, 864, 39, 209, 154, 6, 151, 6, 83, 11, 15, 22, 155, 11, 15, 7, 48, 9, 4579, 1005, 504, 6, 258, 6, 272, 11, 15, 22, 134, 44, 11, 15, 16, 8, 197, 1245, 90, 67, 52, 29, 209, 30, 32, 132, 6, 109, 15, 17, 12]\n",
      "3\n"
     ]
    }
   ],
   "source": [
    "print(X_train[0]) # X_train의 인덱스는 자주 등장할수록 작은 숫자 부여\n",
    "print(y_train[0])"
   ]
  },
  {
   "cell_type": "code",
   "execution_count": 5,
   "metadata": {},
   "outputs": [
    {
     "name": "stdout",
     "output_type": "stream",
     "text": [
      "뉴스 기사의 최대 길이 : 2376\n",
      "뉴스 기사의 평균 길이 : 145.5398574927633\n"
     ]
    }
   ],
   "source": [
    "print('뉴스 기사의 최대 길이 : {}'.format(max(len(l) for l in X_train)))\n",
    "print('뉴스 기사의 평균 길이 : {}'.format(sum(len(l) for l in X_train)/len(X_train)))"
   ]
  },
  {
   "cell_type": "code",
   "execution_count": 8,
   "metadata": {},
   "outputs": [
    {
     "data": {
      "image/png": "[encoded data removed]",
      "text/plain": [
       "<Figure size 432x288 with 1 Axes>"
      ]
     },
     "metadata": {
      "needs_background": "light"
     },
     "output_type": "display_data"
    }
   ],
   "source": [
    "plt.hist([len(s) for s in X_train], bins = 50) # legnth 50마다 쪼개서 결과 보여줌\n",
    "plt.xlabel('length of samples')\n",
    "plt.ylabel('number of samples')\n",
    "plt.show()"
   ]
  },
  {
   "cell_type": "code",
   "execution_count": 9,
   "metadata": {},
   "outputs": [
    {
     "data": {
      "text/plain": [
       "<matplotlib.axes._subplots.AxesSubplot at 0x2bd97a1c320>"
      ]
     },
     "execution_count": 9,
     "metadata": {},
     "output_type": "execute_result"
    },
    {
     "data": {
      "image/png": "[encoded data removed]",
      "text/plain": [
       "<Figure size 864x360 with 1 Axes>"
      ]
     },
     "metadata": {
      "needs_background": "light"
     },
     "output_type": "display_data"
    }
   ],
   "source": [
    "# 카테고리별 뉴스의 갯수 분포 >> 대부분 3,4번 카테고리에 편중되어있음\n",
    "fig, axe = plt.subplots(ncols=1)\n",
    "fig.set_size_inches(12,5)\n",
    "sns.countplot(y_train)dnldml "
   ]
  },
  {
   "cell_type": "code",
   "execution_count": 17,
   "metadata": {},
   "outputs": [
    {
     "data": {
      "text/plain": [
       "<matplotlib.axes._subplots.AxesSubplot at 0x2bd98abca20>"
      ]
     },
     "execution_count": 17,
     "metadata": {},
     "output_type": "execute_result"
    },
    {
     "data": {
      "image/png": "[encoded data removed]",
      "text/plain": [
       "<Figure size 864x360 with 1 Axes>"
      ]
     },
     "metadata": {
      "needs_background": "light"
     },
     "output_type": "display_data"
    }
   ],
   "source": [
    "fig, axe = plt.subplots(ncols=1)\n",
    "fig.set_size_inches(12,5)\n",
    "sns.countplot(y_test)"
   ]
  },
  {
   "cell_type": "code",
   "execution_count": 10,
   "metadata": {},
   "outputs": [
    {
     "name": "stdout",
     "output_type": "stream",
     "text": [
      "각 레이블에 대한 빈도수:\n",
      "[[   0    1    2    3    4    5    6    7    8    9   10   11   12   13\n",
      "    14   15   16   17   18   19   20   21   22   23   24   25   26   27\n",
      "    28   29   30   31   32   33   34   35   36   37   38   39   40   41\n",
      "    42   43   44   45]\n",
      " [  55  432   74 3159 1949   17   48   16  139  101  124  390   49  172\n",
      "    26   20  444   39   66  549  269  100   15   41   62   92   24   15\n",
      "    48   19   45   39   32   11   50   10   49   19   19   24   36   30\n",
      "    13   21   12   18]]\n"
     ]
    }
   ],
   "source": [
    "unique_elements, counts_elements = np.unique(y_train, return_counts = True)\n",
    "print('각 레이블에 대한 빈도수:')\n",
    "print(np.asarray((unique_elements, counts_elements)))"
   ]
  },
  {
   "cell_type": "code",
   "execution_count": 11,
   "metadata": {},
   "outputs": [
    {
     "name": "stdout",
     "output_type": "stream",
     "text": [
      "{0: 55, 1: 432, 2: 74, 3: 3159, 4: 1949, 5: 17, 6: 48, 7: 16, 8: 139, 9: 101, 10: 124, 11: 390, 12: 49, 13: 172, 14: 26, 15: 20, 16: 444, 17: 39, 18: 66, 19: 549, 20: 269, 21: 100, 22: 15, 23: 41, 24: 62, 25: 92, 26: 24, 27: 15, 28: 48, 29: 19, 30: 45, 31: 39, 32: 32, 33: 11, 34: 50, 35: 10, 36: 49, 37: 19, 38: 19, 39: 24, 40: 36, 41: 30, 42: 13, 43: 21, 44: 12, 45: 18}\n"
     ]
    }
   ],
   "source": [
    "label_cnt = dict(zip(unique_elements, counts_elements))\n",
    "print(label_cnt)"
   ]
  },
  {
   "cell_type": "code",
   "execution_count": 12,
   "metadata": {},
   "outputs": [
    {
     "name": "stdout",
     "output_type": "stream",
     "text": [
      "Downloading data from https://storage.googleapis.com/tensorflow/tf-keras-datasets/reuters_word_index.json\n",
      "557056/550378 [==============================] - 0s 1us/step\n"
     ]
    }
   ],
   "source": [
    "word_to_index = reuters.get_word_index()\n",
    "#print(word_to_index)"
   ]
  },
  {
   "cell_type": "code",
   "execution_count": 14,
   "metadata": {},
   "outputs": [],
   "source": [
    "index_to_word = {}  # dictionary\n",
    "for key, value in word_to_index.items():\n",
    "    index_to_word[value] = key"
   ]
  },
  {
   "cell_type": "code",
   "execution_count": 15,
   "metadata": {},
   "outputs": [
    {
     "name": "stdout",
     "output_type": "stream",
     "text": [
      "빈도수 상위 3번 단어 : to\n"
     ]
    }
   ],
   "source": [
    "print('빈도수 상위 {}번 단어 : {}'.format(3, index_to_word[3]))"
   ]
  },
  {
   "cell_type": "code",
   "execution_count": 16,
   "metadata": {},
   "outputs": [
    {
     "name": "stdout",
     "output_type": "stream",
     "text": [
      "the 6 hurting up as combined months 3198 and matter for such thomas said relatively britain level one month assets few a what one when fell mln months central 168 for sept said costs is relatively britain and production is relatively means month for assets reduce note was hurting it before on treasury april announced in fell mln in stabilized sept cts foreign is britain level and account is means months however it britain level one as results along currency in rates expected silently part anza qtrs common in week's convert purchase have five acceptances deposits was regime said britain richard 3 disapproval venice pct dlrs\n"
     ]
    }
   ],
   "source": [
    "print(' '.join([index_to_word[X] for X in X_train[9]]))"
   ]
  },
  {
   "cell_type": "markdown",
   "metadata": {},
   "source": [
    "# 2. LSTM으로 로이터 뉴스 분류하기"
   ]
  },
  {
   "cell_type": "code",
   "execution_count": 19,
   "metadata": {},
   "outputs": [],
   "source": [
    "from tensorflow.keras.datasets import reuters\n",
    "from tensorflow.keras.models import Sequential\n",
    "from tensorflow.keras.layers import Dense, LSTM, Embedding\n",
    "from tensorflow.keras.preprocessing.sequence import pad_sequences\n",
    "from tensorflow.keras.utils import to_categorical\n",
    "from tensorflow.keras.callbacks import EarlyStopping, ModelCheckpoint\n",
    "from tensorflow.keras.models import load_model"
   ]
  },
  {
   "cell_type": "code",
   "execution_count": 20,
   "metadata": {},
   "outputs": [],
   "source": [
    "# 빈도수 1000까지의 단어만 사용\n",
    "np_load_old = np.load\n",
    "np.load = lambda *a: np_load_old(*a, allow_pickle=True)\n",
    "(X_train, y_train), (X_test, y_test) = reuters.load_data(num_words=1000, test_split=0.2)\n",
    "np.load = np_load_old"
   ]
  },
  {
   "cell_type": "code",
   "execution_count": 21,
   "metadata": {},
   "outputs": [],
   "source": [
    "# 모든 데이터의 길이는 100으로 통일\n",
    "max_len = 100\n",
    "X_train = pad_sequences(X_train, maxlen=max_len)\n",
    "X_test = pad_sequences(X_test, maxlen=max_len)"
   ]
  },
  {
   "cell_type": "code",
   "execution_count": 22,
   "metadata": {},
   "outputs": [],
   "source": [
    "# 레이블은 원핫 인코딩\n",
    "y_train = to_categorical(y_train)\n",
    "y_test = to_categorical(y_test)"
   ]
  },
  {
   "cell_type": "code",
   "execution_count": 26,
   "metadata": {},
   "outputs": [
    {
     "name": "stderr",
     "output_type": "stream",
     "text": [
      "WARNING: Logging before flag parsing goes to stderr.\n",
      "W0528 18:02:46.372071 22860 deprecation.py:506] From c:\\users\\yunja_kuj61s9\\appdata\\local\\programs\\python\\python36\\lib\\site-packages\\tensorflow\\python\\keras\\initializers.py:119: calling RandomUniform.__init__ (from tensorflow.python.ops.init_ops) with dtype is deprecated and will be removed in a future version.\n",
      "Instructions for updating:\n",
      "Call initializer instance with the dtype argument instead of passing it to the constructor\n",
      "W0528 18:02:46.393016 22860 deprecation.py:506] From c:\\users\\yunja_kuj61s9\\appdata\\local\\programs\\python\\python36\\lib\\site-packages\\tensorflow\\python\\ops\\init_ops.py:1251: calling VarianceScaling.__init__ (from tensorflow.python.ops.init_ops) with dtype is deprecated and will be removed in a future version.\n",
      "Instructions for updating:\n",
      "Call initializer instance with the dtype argument instead of passing it to the constructor\n"
     ]
    }
   ],
   "source": [
    "model = Sequential()\n",
    "model.add(Embedding(1000, 120))\n",
    "model.add(LSTM(120))\n",
    "model.add(Dense(46, activation='softmax'))"
   ]
  },
  {
   "cell_type": "code",
   "execution_count": 27,
   "metadata": {},
   "outputs": [],
   "source": [
    "es = EarlyStopping(monitor='val_loss', mode='min', verbose=1, patience=4)\n",
    "mc = ModelCheckpoint('best_model.h5', monitor='val_acc', mode='max', verbose=1, save_best_only=True)"
   ]
  },
  {
   "cell_type": "code",
   "execution_count": 28,
   "metadata": {
    "scrolled": false
   },
   "outputs": [
    {
     "name": "stderr",
     "output_type": "stream",
     "text": [
      "W0528 18:15:02.063509 22860 deprecation.py:323] From c:\\users\\yunja_kuj61s9\\appdata\\local\\programs\\python\\python36\\lib\\site-packages\\tensorflow\\python\\ops\\math_grad.py:1250: add_dispatch_support.<locals>.wrapper (from tensorflow.python.ops.array_ops) is deprecated and will be removed in a future version.\n",
      "Instructions for updating:\n",
      "Use tf.where in 2.0, which has the same broadcast rule as np.where\n"
     ]
    },
    {
     "name": "stdout",
     "output_type": "stream",
     "text": [
      "Train on 8982 samples, validate on 2246 samples\n",
      "Epoch 1/30\n",
      "8960/8982 [============================>.] - ETA: 0s - loss: 2.6345 - acc: 0.3461\n",
      "Epoch 00001: val_acc improved from -inf to 0.36198, saving model to best_model.h5\n",
      "8982/8982 [==============================] - 21s 2ms/sample - loss: 2.6333 - acc: 0.3460 - val_loss: 2.4256 - val_acc: 0.3620\n",
      "Epoch 2/30\n",
      "8960/8982 [============================>.] - ETA: 0s - loss: 2.3291 - acc: 0.3705\n",
      "Epoch 00002: val_acc improved from 0.36198 to 0.49154, saving model to best_model.h5\n",
      "8982/8982 [==============================] - 27s 3ms/sample - loss: 2.3288 - acc: 0.3705 - val_loss: 2.0299 - val_acc: 0.4915\n",
      "Epoch 3/30\n",
      "8960/8982 [============================>.] - ETA: 0s - loss: 1.9042 - acc: 0.5066\n",
      "Epoch 00003: val_acc improved from 0.49154 to 0.53963, saving model to best_model.h5\n",
      "8982/8982 [==============================] - 28s 3ms/sample - loss: 1.9034 - acc: 0.5068 - val_loss: 1.7850 - val_acc: 0.5396\n",
      "Epoch 4/30\n",
      "8960/8982 [============================>.] - ETA: 0s - loss: 1.7398 - acc: 0.5497\n",
      "Epoch 00004: val_acc improved from 0.53963 to 0.55966, saving model to best_model.h5\n",
      "8982/8982 [==============================] - 28s 3ms/sample - loss: 1.7401 - acc: 0.5497 - val_loss: 1.7438 - val_acc: 0.5597\n",
      "Epoch 5/30\n",
      "8960/8982 [============================>.] - ETA: 0s - loss: 1.6451 - acc: 0.5746\n",
      "Epoch 00005: val_acc improved from 0.55966 to 0.57435, saving model to best_model.h5\n",
      "8982/8982 [==============================] - 28s 3ms/sample - loss: 1.6461 - acc: 0.5745 - val_loss: 1.6715 - val_acc: 0.5744\n",
      "Epoch 6/30\n",
      "8960/8982 [============================>.] - ETA: 0s - loss: 1.5806 - acc: 0.6004\n",
      "Epoch 00006: val_acc improved from 0.57435 to 0.58771, saving model to best_model.h5\n",
      "8982/8982 [==============================] - 28s 3ms/sample - loss: 1.5815 - acc: 0.6001 - val_loss: 1.6279 - val_acc: 0.5877\n",
      "Epoch 7/30\n",
      "8960/8982 [============================>.] - ETA: 0s - loss: 1.4973 - acc: 0.6202\n",
      "Epoch 00007: val_acc improved from 0.58771 to 0.62155, saving model to best_model.h5\n",
      "8982/8982 [==============================] - 28s 3ms/sample - loss: 1.4972 - acc: 0.6204 - val_loss: 1.5152 - val_acc: 0.6215\n",
      "Epoch 8/30\n",
      "8960/8982 [============================>.] - ETA: 0s - loss: 1.4181 - acc: 0.6395\n",
      "Epoch 00008: val_acc improved from 0.62155 to 0.62289, saving model to best_model.h5\n",
      "8982/8982 [==============================] - 28s 3ms/sample - loss: 1.4174 - acc: 0.6397 - val_loss: 1.5063 - val_acc: 0.6229\n",
      "Epoch 9/30\n",
      "8960/8982 [============================>.] - ETA: 0s - loss: 1.3694 - acc: 0.6489\n",
      "Epoch 00009: val_acc improved from 0.62289 to 0.64470, saving model to best_model.h5\n",
      "8982/8982 [==============================] - 28s 3ms/sample - loss: 1.3697 - acc: 0.6490 - val_loss: 1.4131 - val_acc: 0.6447\n",
      "Epoch 10/30\n",
      "8960/8982 [============================>.] - ETA: 0s - loss: 1.2727 - acc: 0.6711\n",
      "Epoch 00010: val_acc did not improve from 0.64470\n",
      "8982/8982 [==============================] - 28s 3ms/sample - loss: 1.2725 - acc: 0.6711 - val_loss: 1.4114 - val_acc: 0.6438\n",
      "Epoch 11/30\n",
      "8960/8982 [============================>.] - ETA: 0s - loss: 1.2178 - acc: 0.6862\n",
      "Epoch 00011: val_acc improved from 0.64470 to 0.65939, saving model to best_model.h5\n",
      "8982/8982 [==============================] - 28s 3ms/sample - loss: 1.2191 - acc: 0.6858 - val_loss: 1.3450 - val_acc: 0.6594\n",
      "Epoch 12/30\n",
      "8960/8982 [============================>.] - ETA: 0s - loss: 1.1624 - acc: 0.7060\n",
      "Epoch 00012: val_acc did not improve from 0.65939\n",
      "8982/8982 [==============================] - 29s 3ms/sample - loss: 1.1624 - acc: 0.7060 - val_loss: 1.3315 - val_acc: 0.6581\n",
      "Epoch 13/30\n",
      "8960/8982 [============================>.] - ETA: 0s - loss: 1.1062 - acc: 0.7190\n",
      "Epoch 00013: val_acc improved from 0.65939 to 0.67364, saving model to best_model.h5\n",
      "8982/8982 [==============================] - 29s 3ms/sample - loss: 1.1053 - acc: 0.7193 - val_loss: 1.2690 - val_acc: 0.6736\n",
      "Epoch 14/30\n",
      "8960/8982 [============================>.] - ETA: 0s - loss: 1.0394 - acc: 0.7319\n",
      "Epoch 00014: val_acc improved from 0.67364 to 0.67409, saving model to best_model.h5\n",
      "8982/8982 [==============================] - 30s 3ms/sample - loss: 1.0401 - acc: 0.7319 - val_loss: 1.2647 - val_acc: 0.6741\n",
      "Epoch 15/30\n",
      "8960/8982 [============================>.] - ETA: 0s - loss: 1.0000 - acc: 0.7423\n",
      "Epoch 00015: val_acc improved from 0.67409 to 0.69234, saving model to best_model.h5\n",
      "8982/8982 [==============================] - 29s 3ms/sample - loss: 0.9999 - acc: 0.7425 - val_loss: 1.2456 - val_acc: 0.6923\n",
      "Epoch 16/30\n",
      "8960/8982 [============================>.] - ETA: 0s - loss: 0.9516 - acc: 0.7576\n",
      "Epoch 00016: val_acc did not improve from 0.69234\n",
      "8982/8982 [==============================] - 29s 3ms/sample - loss: 0.9514 - acc: 0.7576 - val_loss: 1.2396 - val_acc: 0.6906\n",
      "Epoch 17/30\n",
      "8960/8982 [============================>.] - ETA: 0s - loss: 0.9063 - acc: 0.7675\n",
      "Epoch 00017: val_acc improved from 0.69234 to 0.69858, saving model to best_model.h5\n",
      "8982/8982 [==============================] - 32s 4ms/sample - loss: 0.9069 - acc: 0.7674 - val_loss: 1.2137 - val_acc: 0.6986\n",
      "Epoch 18/30\n",
      "8960/8982 [============================>.] - ETA: 0s - loss: 0.8584 - acc: 0.7858\n",
      "Epoch 00018: val_acc did not improve from 0.69858\n",
      "8982/8982 [==============================] - 29s 3ms/sample - loss: 0.8586 - acc: 0.7859 - val_loss: 1.2091 - val_acc: 0.6986\n",
      "Epoch 19/30\n",
      "8960/8982 [============================>.] - ETA: 0s - loss: 0.8144 - acc: 0.7941\n",
      "Epoch 00019: val_acc improved from 0.69858 to 0.71104, saving model to best_model.h5\n",
      "8982/8982 [==============================] - 31s 3ms/sample - loss: 0.8139 - acc: 0.7943 - val_loss: 1.1929 - val_acc: 0.7110\n",
      "Epoch 20/30\n",
      "8960/8982 [============================>.] - ETA: 0s - loss: 0.7589 - acc: 0.8094\n",
      "Epoch 00020: val_acc did not improve from 0.71104\n",
      "8982/8982 [==============================] - 37s 4ms/sample - loss: 0.7597 - acc: 0.8092 - val_loss: 1.2083 - val_acc: 0.7044\n",
      "Epoch 21/30\n",
      "8960/8982 [============================>.] - ETA: 0s - loss: 0.7162 - acc: 0.8184\n",
      "Epoch 00021: val_acc improved from 0.71104 to 0.71638, saving model to best_model.h5\n",
      "8982/8982 [==============================] - 33s 4ms/sample - loss: 0.7165 - acc: 0.8183 - val_loss: 1.1924 - val_acc: 0.7164\n",
      "Epoch 22/30\n",
      "8960/8982 [============================>.] - ETA: 0s - loss: 0.6738 - acc: 0.8273\n",
      "Epoch 00022: val_acc did not improve from 0.71638\n",
      "8982/8982 [==============================] - 31s 3ms/sample - loss: 0.6736 - acc: 0.8274 - val_loss: 1.1959 - val_acc: 0.7146\n",
      "Epoch 23/30\n",
      "8960/8982 [============================>.] - ETA: 0s - loss: 0.6519 - acc: 0.8316\n",
      "Epoch 00023: val_acc did not improve from 0.71638\n",
      "8982/8982 [==============================] - 34s 4ms/sample - loss: 0.6531 - acc: 0.8312 - val_loss: 1.2244 - val_acc: 0.7119\n",
      "Epoch 24/30\n",
      "8960/8982 [============================>.] - ETA: 0s - loss: 0.6262 - acc: 0.8405\n",
      "Epoch 00024: val_acc improved from 0.71638 to 0.71995, saving model to best_model.h5\n",
      "8982/8982 [==============================] - 37s 4ms/sample - loss: 0.6255 - acc: 0.8407 - val_loss: 1.2109 - val_acc: 0.7199\n",
      "Epoch 25/30\n",
      "8960/8982 [============================>.] - ETA: 0s - loss: 0.5824 - acc: 0.8508\n",
      "Epoch 00025: val_acc did not improve from 0.71995\n",
      "8982/8982 [==============================] - 34s 4ms/sample - loss: 0.5823 - acc: 0.8509 - val_loss: 1.2447 - val_acc: 0.7119\n",
      "Epoch 00025: early stopping\n"
     ]
    }
   ],
   "source": [
    "model.compile(loss='categorical_crossentropy', optimizer='adam', metrics=['acc'])\n",
    "history=model.fit(X_train, y_train, batch_size=128, epochs=30, callbacks=[es, mc], validation_data=(X_test, y_test))"
   ]
  },
  {
   "cell_type": "code",
   "execution_count": 29,
   "metadata": {},
   "outputs": [
    {
     "name": "stderr",
     "output_type": "stream",
     "text": [
      "W0528 18:27:55.284610 22860 deprecation.py:506] From c:\\users\\yunja_kuj61s9\\appdata\\local\\programs\\python\\python36\\lib\\site-packages\\tensorflow\\python\\ops\\init_ops.py:97: calling GlorotUniform.__init__ (from tensorflow.python.ops.init_ops) with dtype is deprecated and will be removed in a future version.\n",
      "Instructions for updating:\n",
      "Call initializer instance with the dtype argument instead of passing it to the constructor\n",
      "W0528 18:27:55.286602 22860 deprecation.py:506] From c:\\users\\yunja_kuj61s9\\appdata\\local\\programs\\python\\python36\\lib\\site-packages\\tensorflow\\python\\ops\\init_ops.py:97: calling Orthogonal.__init__ (from tensorflow.python.ops.init_ops) with dtype is deprecated and will be removed in a future version.\n",
      "Instructions for updating:\n",
      "Call initializer instance with the dtype argument instead of passing it to the constructor\n",
      "W0528 18:27:55.287599 22860 deprecation.py:506] From c:\\users\\yunja_kuj61s9\\appdata\\local\\programs\\python\\python36\\lib\\site-packages\\tensorflow\\python\\ops\\init_ops.py:97: calling Zeros.__init__ (from tensorflow.python.ops.init_ops) with dtype is deprecated and will be removed in a future version.\n",
      "Instructions for updating:\n",
      "Call initializer instance with the dtype argument instead of passing it to the constructor\n"
     ]
    },
    {
     "name": "stdout",
     "output_type": "stream",
     "text": [
      "2246/2246 [==============================] - 2s 889us/sample - loss: 1.2109 - acc: 0.7199\n",
      "\n",
      " 테스트 정확도: 0.7199\n"
     ]
    }
   ],
   "source": [
    "loaded_model = load_model('best_model.h5')\n",
    "print(\"\\n 테스트 정확도: %.4f\" % (loaded_model.evaluate(X_test, y_test)[1]))"
   ]
  },
  {
   "cell_type": "code",
   "execution_count": 30,
   "metadata": {},
   "outputs": [
    {
     "data": {
      "image/png": "[encoded data removed]",
      "text/plain": [
       "<Figure size 432x288 with 1 Axes>"
      ]
     },
     "metadata": {
      "needs_background": "light"
     },
     "output_type": "display_data"
    }
   ],
   "source": [
    "epochs = range(1, len(history.history['acc']) + 1)\n",
    "plt.plot(epochs, history.history['loss'])\n",
    "plt.plot(epochs, history.history['val_loss'])\n",
    "plt.title('model loss')\n",
    "plt.ylabel('loss')\n",
    "plt.xlabel('epoch')\n",
    "plt.legend(['train', 'test'], loc='upper left')\n",
    "plt.show()"
   ]
  },
  {
   "cell_type": "code",
   "execution_count": null,
   "metadata": {},
   "outputs": [],
   "source": []
  }
 ],
 "metadata": {
  "kernelspec": {
   "display_name": "Python 3",
   "language": "python",
   "name": "python3"
  },
  "language_info": {
   "codemirror_mode": {
    "name": "ipython",
    "version": 3
   },
   "file_extension": ".py",
   "mimetype": "text/x-python",
   "name": "python",
   "nbconvert_exporter": "python",
   "pygments_lexer": "ipython3",
   "version": "3.6.1"
  }
 },
 "nbformat": 4,
 "nbformat_minor": 2
}
